{
 "cells": [
  {
   "cell_type": "code",
   "execution_count": 1,
   "metadata": {},
   "outputs": [],
   "source": [
    "#################################################\n",
    "# DEPENDENCIES declaration\n",
    "#################################################\n",
    "\n",
    "%matplotlib inline\n",
    "from matplotlib import style\n",
    "style.use('fivethirtyeight')\n",
    "import matplotlib.pyplot as plt\n",
    "import numpy as np\n",
    "import pandas as pd\n",
    "import datetime as dt\n",
    "# Python SQL toolkit and Object Relational Mapper\n",
    "import sqlalchemy\n",
    "from sqlalchemy.ext.automap import automap_base\n",
    "from sqlalchemy.orm import Session\n",
    "from sqlalchemy import create_engine, func, inspect\n",
    "from sqlalchemy import create_engine, MetaData, Table, Column, ForeignKey\n",
    "from sqlalchemy.ext.automap import automap_base\n",
    "from flask import Flask, jsonify"
   ]
  },
  {
   "cell_type": "markdown",
   "metadata": {},
   "source": [
    "# Reflect Tables into SQLAlchemy ORM\n",
    "- SQLAlchemy ORM queries, Pandas, and Matplotlib.\n"
   ]
  },
  {
   "cell_type": "code",
   "execution_count": 2,
   "metadata": {},
   "outputs": [],
   "source": [
    "#################################################\n",
    "# Use SQLAlchemy create_engine to connect to your sqlite database.\n",
    "#################################################\n",
    "engine = create_engine(\"sqlite:///Resources/hawaii.sqlite\")"
   ]
  },
  {
   "cell_type": "code",
   "execution_count": 3,
   "metadata": {},
   "outputs": [
    {
     "name": "stdout",
     "output_type": "stream",
     "text": [
      "['measurement', 'station']\n"
     ]
    }
   ],
   "source": [
    "#################################################\n",
    "# Collect the names of tables within the database\n",
    "#################################################\n",
    "engine.table_names()\n",
    "print(engine.table_names())"
   ]
  },
  {
   "cell_type": "code",
   "execution_count": 4,
   "metadata": {},
   "outputs": [
    {
     "name": "stdout",
     "output_type": "stream",
     "text": [
      "Columns in measurement table:\n",
      "id INTEGER\n",
      "station TEXT\n",
      "date TEXT\n",
      "prcp FLOAT\n",
      "tobs FLOAT\n",
      "Columns in station table:\n",
      "id INTEGER\n",
      "station TEXT\n",
      "name TEXT\n",
      "latitude FLOAT\n",
      "longitude FLOAT\n",
      "elevation FLOAT\n"
     ]
    }
   ],
   "source": [
    "inspector = inspect(engine)\n",
    "\n",
    "columns = inspector.get_columns('measurement')\n",
    "print(f'Columns in measurement table:')\n",
    "for c in columns:\n",
    "    print(c['name'], c[\"type\"])\n",
    "\n",
    "    \n",
    "columns = inspector.get_columns('station')\n",
    "print(f'Columns in station table:')\n",
    "for c in columns:\n",
    "    print(c['name'], c[\"type\"])"
   ]
  },
  {
   "cell_type": "code",
   "execution_count": 5,
   "metadata": {},
   "outputs": [
    {
     "name": "stdout",
     "output_type": "stream",
     "text": [
      "['measurement', 'station']\n"
     ]
    }
   ],
   "source": [
    "#################################################\n",
    "# reflect an existing database into a new model\n",
    "#################################################\n",
    "Base = automap_base()\n",
    "#################################################\n",
    "# reflect the tables\n",
    "#################################################\n",
    "Base.prepare(engine, reflect=True)\n",
    "\n",
    "#################################################\n",
    "# We can view all of the classes that automap found\n",
    "#################################################\n",
    "Base.classes.keys()\n",
    "\n",
    "session = Session(engine)\n",
    "\n",
    "#################################################\n",
    "# Save references to each table\n",
    "#################################################\n",
    "Measurement = Base.classes.measurement\n",
    "Station = Base.classes.station\n",
    "print(Base.classes.keys())"
   ]
  },
  {
   "cell_type": "code",
   "execution_count": 6,
   "metadata": {},
   "outputs": [
    {
     "name": "stdout",
     "output_type": "stream",
     "text": [
      "Last date detected on data: 2017-08-23 00:00:00\n",
      "Last date from previous year on data: 2016-08-23 00:00:00\n"
     ]
    }
   ],
   "source": [
    "#################################################\n",
    "# Design a query to retrieve the last 12 months \n",
    "# of precipitation data and plot the results\n",
    "# Calculate the date 1 year ago from the last data point in the database\n",
    "#################################################\n",
    "last_date = session.query(func.max(Measurement.date)).scalar()\n",
    "last_date\n",
    "\n",
    "date_time_obj = dt.datetime.strptime(last_date, '%Y-%m-%d')\n",
    "year = dt.timedelta(days=365)\n",
    "\n",
    "last_date_last_year = date_time_obj - year\n",
    "# print('Last date detected on data:', last_date)\n",
    "print('Last date detected on data:', date_time_obj)\n",
    "print('Last date from previous year on data:', last_date_last_year)\n",
    "# print(last_date_last_year)"
   ]
  },
  {
   "cell_type": "code",
   "execution_count": 7,
   "metadata": {},
   "outputs": [
    {
     "data": {
      "text/html": [
       "<div>\n",
       "<style scoped>\n",
       "    .dataframe tbody tr th:only-of-type {\n",
       "        vertical-align: middle;\n",
       "    }\n",
       "\n",
       "    .dataframe tbody tr th {\n",
       "        vertical-align: top;\n",
       "    }\n",
       "\n",
       "    .dataframe thead th {\n",
       "        text-align: right;\n",
       "    }\n",
       "</style>\n",
       "<table border=\"1\" class=\"dataframe\">\n",
       "  <thead>\n",
       "    <tr style=\"text-align: right;\">\n",
       "      <th></th>\n",
       "      <th>prcp</th>\n",
       "    </tr>\n",
       "    <tr>\n",
       "      <th>date</th>\n",
       "      <th></th>\n",
       "    </tr>\n",
       "  </thead>\n",
       "  <tbody>\n",
       "    <tr>\n",
       "      <th>2016-08-24</th>\n",
       "      <td>0.08</td>\n",
       "    </tr>\n",
       "    <tr>\n",
       "      <th>2016-08-24</th>\n",
       "      <td>2.15</td>\n",
       "    </tr>\n",
       "    <tr>\n",
       "      <th>2016-08-24</th>\n",
       "      <td>2.28</td>\n",
       "    </tr>\n",
       "    <tr>\n",
       "      <th>2016-08-24</th>\n",
       "      <td>0.00</td>\n",
       "    </tr>\n",
       "    <tr>\n",
       "      <th>2016-08-24</th>\n",
       "      <td>1.22</td>\n",
       "    </tr>\n",
       "    <tr>\n",
       "      <th>2016-08-24</th>\n",
       "      <td>2.15</td>\n",
       "    </tr>\n",
       "    <tr>\n",
       "      <th>2016-08-24</th>\n",
       "      <td>1.45</td>\n",
       "    </tr>\n",
       "    <tr>\n",
       "      <th>2016-08-25</th>\n",
       "      <td>0.08</td>\n",
       "    </tr>\n",
       "    <tr>\n",
       "      <th>2016-08-25</th>\n",
       "      <td>0.08</td>\n",
       "    </tr>\n",
       "    <tr>\n",
       "      <th>2016-08-25</th>\n",
       "      <td>0.00</td>\n",
       "    </tr>\n",
       "  </tbody>\n",
       "</table>\n",
       "</div>"
      ],
      "text/plain": [
       "            prcp\n",
       "date            \n",
       "2016-08-24  0.08\n",
       "2016-08-24  2.15\n",
       "2016-08-24  2.28\n",
       "2016-08-24  0.00\n",
       "2016-08-24  1.22\n",
       "2016-08-24  2.15\n",
       "2016-08-24  1.45\n",
       "2016-08-25  0.08\n",
       "2016-08-25  0.08\n",
       "2016-08-25  0.00"
      ]
     },
     "execution_count": 7,
     "metadata": {},
     "output_type": "execute_result"
    }
   ],
   "source": [
    "#################################################\n",
    "# Perform a query to retrieve the data and precipitation scores\n",
    "#################################################\n",
    "precipitation = session.query(Measurement.date, Measurement.prcp).filter(Measurement.date >= last_date_last_year).order_by(Measurement.date).all()\n",
    "# precipitation = session.query(Measurement.date, Measurement.prcp).filter(Measurement.date>=\"2016-08-23\").all()\n",
    "# precipitation\n",
    "\n",
    "\n",
    "#################################################\n",
    "# Save the query results as a Pandas DataFrame and set the index to the date column\n",
    "# Sort the dataframe by date\n",
    "#################################################\n",
    "df = pd.DataFrame(precipitation)\n",
    "df.columns = precipitation[0].keys()\n",
    "df.set_index(\"date\").fillna(0).head(10)\n",
    "# df.sort_values(by=['date'], ascending=False)\n",
    "# df.set_index(\"date\").dropna().head(10)\n",
    "# df.set_index(\"date\")"
   ]
  },
  {
   "cell_type": "code",
   "execution_count": 8,
   "metadata": {
    "scrolled": true
   },
   "outputs": [
    {
     "data": {
      "image/png": "[encoded data removed]",
      "text/plain": [
       "<matplotlib.figure.Figure at 0x10fd4ae10>"
      ]
     },
     "metadata": {},
     "output_type": "display_data"
    }
   ],
   "source": [
    "#################################################\n",
    "# Use Pandas Plotting with Matplotlib to plot the data\n",
    "#################################################\n",
    "df.plot(figsize=(12, 4), x_compat=True)\n",
    "# df.plot('date','prcp')\n",
    "# df.plot('date', 'prcp', figsize=(12, 8), x_compat=True, color='green')\n",
    "#set the title\n",
    "plt.title('Precipitation scores for the last 12 Months')\n",
    "plt.tight_layout()\n",
    "plt.xlabel('date')   \n",
    "# plt.legend(\"hola\")\n",
    "# plt.legend('Precipitation')          \n",
    "#rotate the x labels 45 degrees\n",
    "# plt.xticks(rotation=45)\n",
    "#make it a tight layout\n",
    "plt.show()"
   ]
  },
  {
   "cell_type": "code",
   "execution_count": 9,
   "metadata": {
    "scrolled": true
   },
   "outputs": [
    {
     "data": {
      "text/html": [
       "<div>\n",
       "<style scoped>\n",
       "    .dataframe tbody tr th:only-of-type {\n",
       "        vertical-align: middle;\n",
       "    }\n",
       "\n",
       "    .dataframe tbody tr th {\n",
       "        vertical-align: top;\n",
       "    }\n",
       "\n",
       "    .dataframe thead th {\n",
       "        text-align: right;\n",
       "    }\n",
       "</style>\n",
       "<table border=\"1\" class=\"dataframe\">\n",
       "  <thead>\n",
       "    <tr style=\"text-align: right;\">\n",
       "      <th></th>\n",
       "      <th>prcp</th>\n",
       "    </tr>\n",
       "  </thead>\n",
       "  <tbody>\n",
       "    <tr>\n",
       "      <th>count</th>\n",
       "      <td>2015.000000</td>\n",
       "    </tr>\n",
       "    <tr>\n",
       "      <th>mean</th>\n",
       "      <td>0.176462</td>\n",
       "    </tr>\n",
       "    <tr>\n",
       "      <th>std</th>\n",
       "      <td>0.460288</td>\n",
       "    </tr>\n",
       "    <tr>\n",
       "      <th>min</th>\n",
       "      <td>0.000000</td>\n",
       "    </tr>\n",
       "    <tr>\n",
       "      <th>25%</th>\n",
       "      <td>0.000000</td>\n",
       "    </tr>\n",
       "    <tr>\n",
       "      <th>50%</th>\n",
       "      <td>0.020000</td>\n",
       "    </tr>\n",
       "    <tr>\n",
       "      <th>75%</th>\n",
       "      <td>0.130000</td>\n",
       "    </tr>\n",
       "    <tr>\n",
       "      <th>max</th>\n",
       "      <td>6.700000</td>\n",
       "    </tr>\n",
       "  </tbody>\n",
       "</table>\n",
       "</div>"
      ],
      "text/plain": [
       "              prcp\n",
       "count  2015.000000\n",
       "mean      0.176462\n",
       "std       0.460288\n",
       "min       0.000000\n",
       "25%       0.000000\n",
       "50%       0.020000\n",
       "75%       0.130000\n",
       "max       6.700000"
      ]
     },
     "execution_count": 9,
     "metadata": {},
     "output_type": "execute_result"
    }
   ],
   "source": [
    "# Use Pandas to calculate the summary statistics for the precipitation data\n",
    "df.describe()"
   ]
  },
  {
   "cell_type": "code",
   "execution_count": 10,
   "metadata": {},
   "outputs": [
    {
     "name": "stdout",
     "output_type": "stream",
     "text": [
      "TOTAL AMOUNT OF STATIONS DETECTED IN DATASET: 9\n"
     ]
    }
   ],
   "source": [
    "#################################################\n",
    "# Precipitation Analysis\n",
    "# Design a query to show how many stations are available in this dataset?\n",
    "#################################################\n",
    "station_number = session.query(Measurement.station, func.count(Measurement.date)).group_by(Measurement.station).all()\n",
    "print('TOTAL AMOUNT OF STATIONS DETECTED IN DATASET:', len(station_number))\n",
    "# type(station_number)\n",
    "# len(station_number)"
   ]
  },
  {
   "cell_type": "code",
   "execution_count": 11,
   "metadata": {},
   "outputs": [
    {
     "name": "stdout",
     "output_type": "stream",
     "text": [
      "MOST ACTIVE STATION DETECTED IS: \n",
      " STATION USC00519281 WITH 2772 TOBS OCURRENCES.\n",
      "\n"
     ]
    }
   ],
   "source": [
    "#################################################\n",
    "# Design a query to find the most active stations.\n",
    "# List the stations and observation counts in descending order.\n",
    "#################################################\n",
    "most_active = session.query(Measurement.station, func.count(Measurement.tobs)).\\\n",
    "group_by(Measurement.station).order_by(func.count(Measurement.tobs).desc()).all()\n",
    "# Hint: You may need to use functions such as func.min, func.max, func.avg, and func.count in your queries.\n",
    "\n",
    "# Which station has the highest number of observations?\n",
    "print(f'MOST ACTIVE STATION DETECTED IS: \\n STATION {most_active[0][0]} WITH {most_active[0][1]} TOBS OCURRENCES.\\n')"
   ]
  },
  {
   "cell_type": "code",
   "execution_count": 12,
   "metadata": {},
   "outputs": [
    {
     "name": "stdout",
     "output_type": "stream",
     "text": [
      "THE TOP 1 STATION DETECTED IS:\n",
      " STATION USC00519281 WITH 2772 TOBS OCURRENCES.\n",
      "\n",
      "THE TOP 2 STATION DETECTED IS:\n",
      " STATION USC00519397 WITH 2724 TOBS OCURRENCES.\n",
      "\n",
      "THE TOP 3 STATION DETECTED IS:\n",
      " STATION USC00513117 WITH 2709 TOBS OCURRENCES.\n",
      "\n",
      "THE TOP 4 STATION DETECTED IS:\n",
      " STATION USC00519523 WITH 2669 TOBS OCURRENCES.\n",
      "\n",
      "THE TOP 5 STATION DETECTED IS:\n",
      " STATION USC00516128 WITH 2612 TOBS OCURRENCES.\n",
      "\n",
      "THE TOP 6 STATION DETECTED IS:\n",
      " STATION USC00514830 WITH 2202 TOBS OCURRENCES.\n",
      "\n",
      "THE TOP 7 STATION DETECTED IS:\n",
      " STATION USC00511918 WITH 1979 TOBS OCURRENCES.\n",
      "\n",
      "THE TOP 8 STATION DETECTED IS:\n",
      " STATION USC00517948 WITH 1372 TOBS OCURRENCES.\n",
      "\n",
      "THE TOP 9 STATION DETECTED IS:\n",
      " STATION USC00518838 WITH 511 TOBS OCURRENCES.\n",
      "\n"
     ]
    }
   ],
   "source": [
    "i = 1\n",
    "for row, ocurrences in most_active:\n",
    "#     print(row, ocurrences)\n",
    "    print(f'THE TOP {i} STATION DETECTED IS:\\n STATION {row} WITH {ocurrences} TOBS OCURRENCES.\\n')\n",
    "    i += 1"
   ]
  },
  {
   "cell_type": "code",
   "execution_count": 13,
   "metadata": {},
   "outputs": [],
   "source": [
    "#################################################\n",
    "# Design a query to retrieve the last 12 months of temperature observation data (tobs).\n",
    "# Filter by the station with the highest number of observations.\n",
    "#################################################\n",
    "tobs_data = session.query(Measurement.station, Measurement.date, Measurement.prcp, \\\n",
    "                          Measurement.tobs).filter(Measurement.station == 'USC00519281').\\\n",
    "                            filter(Measurement.date >= last_date_last_year).order_by(Measurement.date).all()\n",
    "# tobs_data"
   ]
  },
  {
   "cell_type": "code",
   "execution_count": null,
   "metadata": {},
   "outputs": [
    {
     "data": {
      "image/png": "[encoded data removed]",
      "text/plain": [
       "<matplotlib.figure.Figure at 0x10fd4e208>"
      ]
     },
     "metadata": {},
     "output_type": "display_data"
    }
   ],
   "source": [
    "#################################################\n",
    "# Plot the results as a histogram with bins=12. \n",
    "#################################################\n",
    "bins_df =pd.DataFrame(tobs_data)\n",
    "plt.hist(bins_df['tobs'],12)\n",
    "plt.xlabel(\"Temperature\")\n",
    "plt.ylabel(\"Ocurrences\")\n",
    "plt.title(f'Temperature analysis for most active station {most_active[0][0]} for the last 12 months.\\n')\n",
    "plt.show()"
   ]
  },
  {
   "cell_type": "code",
   "execution_count": null,
   "metadata": {
    "scrolled": true
   },
   "outputs": [
    {
     "name": "stderr",
     "output_type": "stream",
     "text": [
      " * Running on http://127.0.0.1:5000/ (Press CTRL+C to quit)\n"
     ]
    }
   ],
   "source": [
    "#################################################\n",
    "# Flask Setup\n",
    "#################################################\n",
    "app = Flask(__name__)\n",
    "#################################################\n",
    "# Flask Routes\n",
    "#################################################\n",
    "\n",
    "from flask import request\n",
    "\n",
    "@app.route(\"/\")\n",
    "def welcome():\n",
    "    return (\n",
    "        f\"Welcome to the API Home page:<br/>\"\n",
    "        f\"Available Routes:<br/>\"\n",
    "#         f\"/api/v1.0/justice-league\" \n",
    "        \n",
    "        f\"--/api/v1.0/precipitation<br/>\"\n",
    "        f\"--/api/v1.0/stations<br/>\"\n",
    "        f\"--/api/v1.0/tobs<br/>\"\n",
    "        f\"--/api/v1.0/<start> <br/>\" \n",
    "        f\"--/api/v1.0/<start>/<end>\"\n",
    "    )\n",
    "#################################################\n",
    "# /api/v1.0/precipitation\n",
    "# Convert the query results to a Dictionary using date as the key and prcp as the value.\n",
    "# Return the JSON representation of your dictionary.\n",
    "#################################################\n",
    "@app.route(\"/api/v1.0/precipitation\")\n",
    "def precipitation():\n",
    "    # Query all \n",
    "    results = session.query(Measurement.date, Measurement.prcp).filter(Measurement.date >= last_date_last_year).order_by(Measurement.date).all()\n",
    "\n",
    "    # Create a dictionary from the row data and append to a list of all_precipitations\n",
    "    all_precipitations = []\n",
    "    for result in results:\n",
    "        precipitation_dict = {}\n",
    "        precipitation_dict[\"date\"] = result.date\n",
    "        precipitation_dict[\"prcp\"] = result.prcp\n",
    "        all_precipitations.append(precipitation_dict)\n",
    "\n",
    "    return jsonify(all_precipitations)\n",
    "\n",
    "#################################################\n",
    "# /api/v1.0/stations\n",
    "# Return a JSON list of stations from the dataset (and also count of stations).\n",
    "#################################################\n",
    "@app.route(\"/api/v1.0/stations\")\n",
    "def stations():\n",
    "    # Query all \n",
    "    station_results = session.query(Measurement.station, func.count(Measurement.station)).group_by(Measurement.station).all()\n",
    "\n",
    "    # return jsonify(all_stations)\n",
    "    all_stations = list(np.ravel(station_results))\n",
    "    return jsonify(all_stations)\n",
    "\n",
    "#################################################\n",
    "# /api/v1.0/tobs\n",
    "# Query for the dates and temperature observations from a year from the last data point.\n",
    "# Return a JSON list of Temperature Observations (tobs) for the previous year.\n",
    "# Design a query to retrieve the last 12 months of temperature observation data (tobs).\n",
    "# Filter by the station with the highest number of observations.\n",
    "#################################################\n",
    "tobs_data = session.query(Measurement.station, Measurement.date,\\\n",
    "                          Measurement.tobs).\\\n",
    "                            filter(Measurement.date >= last_date_last_year).order_by(Measurement.date).all()\n",
    "    \n",
    "@app.route(\"/api/v1.0/tobs\")\n",
    "def tobs():\n",
    "    # Query all \n",
    "    all_tobs = list(np.ravel(tobs_data))\n",
    "    return jsonify(all_tobs)\n",
    "#################################################\n",
    "# /api/v1.0/<start> and /api/v1.0/<start>/<end>\n",
    "# Return a JSON list of the minimum temperature, the average temperature, and the max temperature \n",
    "# for a given start or start-end range.\n",
    "# When given the start only, calculate TMIN, TAVG, and TMAX for all dates greater than and equal\n",
    "# to the start date.\n",
    "#################################################\n",
    "@app.route(\"/api/v1.0/<start>\")\n",
    "def startdata(start):\n",
    "    start_data = session.query(Measurement.date, func.avg(Measurement.tobs),\\\n",
    "                                  func.max(Measurement.tobs), func.min(Measurement.tobs)).\\\n",
    "                            filter(Measurement.date >= start).\\\n",
    "                            order_by(Measurement.date).all()\n",
    "\n",
    "#Create JSON\n",
    "    data_list = []\n",
    "    for result in start_data:\n",
    "        row = {}\n",
    "        row['date'] = result[0]\n",
    "        row['avg'] = float(result[1])\n",
    "        row['max'] = float(result[2])\n",
    "        row['min'] = float(result[3])\n",
    "        data_list.append(row)\n",
    "\n",
    "    return jsonify(data_list) \n",
    "\n",
    "    \n",
    "@app.route(\"/api/v1.0/<start>/<end>\")\n",
    "def startdataend(start, end):\n",
    "    start_dataend = session.query(Measurement.date, func.avg(Measurement.tobs),\\\n",
    "                                  func.max(Measurement.tobs), func.min(Measurement.tobs)).\\\n",
    "                            filter(Measurement.date >= start).filter(Measurement.date <= end).\\\n",
    "                            order_by(Measurement.date).all()\n",
    "#Create JSON\n",
    "    dataend_list = []\n",
    "    for result in start_dataend:\n",
    "        row = {}\n",
    "        row['date'] = result[0]\n",
    "        row['avg'] = float(result[1])\n",
    "        row['max'] = float(result[2])\n",
    "        row['min'] = float(result[3])\n",
    "        dataend_list.append(row)\n",
    "\n",
    "    return jsonify(dataend_list) \n",
    "\n",
    "if __name__ == \"__main__\":\n",
    "    app.run()\n",
    "#     app.run(debug=True)\n",
    "last_date_last_year"
   ]
  },
  {
   "cell_type": "code",
   "execution_count": null,
   "metadata": {},
   "outputs": [],
   "source": []
  }
 ],
 "metadata": {
  "kernel_info": {
   "name": "python3"
  },
  "kernelspec": {
   "display_name": "Python 3",
   "language": "python",
   "name": "python3"
  },
  "language_info": {
   "codemirror_mode": {
    "name": "ipython",
    "version": 3
   },
   "file_extension": ".py",
   "mimetype": "text/x-python",
   "name": "python",
   "nbconvert_exporter": "python",
   "pygments_lexer": "ipython3",
   "version": "3.6.8"
  },
  "nteract": {
   "version": "0.9.1"
  },
  "varInspector": {
   "cols": {
    "lenName": 16,
    "lenType": 16,
    "lenVar": 40
   },
   "kernels_config": {
    "python": {
     "delete_cmd_postfix": "",
     "delete_cmd_prefix": "del ",
     "library": "var_list.py",
     "varRefreshCmd": "print(var_dic_list())"
    },
    "r": {
     "delete_cmd_postfix": ") ",
     "delete_cmd_prefix": "rm(",
     "library": "var_list.r",
     "varRefreshCmd": "cat(var_dic_list()) "
    }
   },
   "types_to_exclude": [
    "module",
    "function",
    "builtin_function_or_method",
    "instance",
    "_Feature"
   ],
   "window_display": false
  }
 },
 "nbformat": 4,
 "nbformat_minor": 2
}
